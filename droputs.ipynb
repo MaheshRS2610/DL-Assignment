{
 "cells": [
  {
   "cell_type": "markdown",
   "id": "9142b251",
   "metadata": {
    "papermill": {
     "duration": 0.00775,
     "end_time": "2023-12-12T16:39:24.175205",
     "exception": false,
     "start_time": "2023-12-12T16:39:24.167455",
     "status": "completed"
    },
    "tags": []
   },
   "source": [
    "\n",
    "**Convolutional Neural Networks (CNNs)** \n",
    "\n",
    "Convolutional Neural Networks (CNNs) have been instrumental in advancing computer vision tasks. CNNs leverage convolutional layers, which perform the primary operation of filtering and feature extraction. The convolutional layer applies learnable filters to input data, capturing local patterns and spatial relationships. These layers are crucial for extracting hierarchical representations from images or other structured data. \n",
    "\n",
    "In a **CNN**, a convolutional layer performs the convolution operation by sliding the filter over the input and computing dot products between the filter weights and the input values at each position. This process produces feature maps that highlight relevant patterns in the input data. The convolutional layer also incorporates activation functions, such as ReLU, to introduce non-linearity into the network and improve its capacity for learning complex features.\n",
    "\n",
    "Now let us provide an exmaple of CNN model using the widely famous iris dataset\n"
   ]
  },
  {
   "cell_type": "markdown",
   "id": "ccfdc8fa",
   "metadata": {
    "papermill": {
     "duration": 0.007321,
     "end_time": "2023-12-12T16:39:24.189846",
     "exception": false,
     "start_time": "2023-12-12T16:39:24.182525",
     "status": "completed"
    },
    "tags": []
   },
   "source": [
    "Import the libraires "
   ]
  },
  {
   "cell_type": "code",
   "execution_count": 1,
   "id": "f10686c9",
   "metadata": {
    "execution": {
     "iopub.execute_input": "2023-12-12T16:39:24.206729Z",
     "iopub.status.busy": "2023-12-12T16:39:24.206085Z",
     "iopub.status.idle": "2023-12-12T16:39:36.360409Z",
     "shell.execute_reply": "2023-12-12T16:39:36.359088Z"
    },
    "papermill": {
     "duration": 12.166105,
     "end_time": "2023-12-12T16:39:36.363453",
     "exception": false,
     "start_time": "2023-12-12T16:39:24.197348",
     "status": "completed"
    },
    "tags": []
   },
   "outputs": [
    {
     "name": "stderr",
     "output_type": "stream",
     "text": [
      "/opt/conda/lib/python3.10/site-packages/tensorflow_io/python/ops/__init__.py:98: UserWarning: unable to load libtensorflow_io_plugins.so: unable to open file: libtensorflow_io_plugins.so, from paths: ['/opt/conda/lib/python3.10/site-packages/tensorflow_io/python/ops/libtensorflow_io_plugins.so']\n",
      "caused by: ['/opt/conda/lib/python3.10/site-packages/tensorflow_io/python/ops/libtensorflow_io_plugins.so: undefined symbol: _ZN3tsl6StatusC1EN10tensorflow5error4CodeESt17basic_string_viewIcSt11char_traitsIcEENS_14SourceLocationE']\n",
      "  warnings.warn(f\"unable to load libtensorflow_io_plugins.so: {e}\")\n",
      "/opt/conda/lib/python3.10/site-packages/tensorflow_io/python/ops/__init__.py:104: UserWarning: file system plugins are not loaded: unable to open file: libtensorflow_io.so, from paths: ['/opt/conda/lib/python3.10/site-packages/tensorflow_io/python/ops/libtensorflow_io.so']\n",
      "caused by: ['/opt/conda/lib/python3.10/site-packages/tensorflow_io/python/ops/libtensorflow_io.so: undefined symbol: _ZTVN10tensorflow13GcsFileSystemE']\n",
      "  warnings.warn(f\"file system plugins are not loaded: {e}\")\n"
     ]
    }
   ],
   "source": [
    "# Import the required libraries\n",
    "import pandas as pd\n",
    "import numpy as np\n",
    "import os\n",
    "\n",
    "# Plotting libraries\n",
    "import matplotlib.pyplot as plt\n",
    "\n",
    "# SKLearn libraries\n",
    "from sklearn.preprocessing import LabelEncoder\n",
    "from sklearn.model_selection import train_test_split\n",
    "\n",
    "# Tensorflow libraries\n",
    "import tensorflow as tf\n",
    "from tensorflow import keras\n",
    "from tensorflow.keras.models import Sequential\n"
   ]
  },
  {
   "cell_type": "markdown",
   "id": "24e5a902",
   "metadata": {
    "papermill": {
     "duration": 0.007166,
     "end_time": "2023-12-12T16:39:36.378424",
     "exception": false,
     "start_time": "2023-12-12T16:39:36.371258",
     "status": "completed"
    },
    "tags": []
   },
   "source": [
    "Read the data"
   ]
  },
  {
   "cell_type": "code",
   "execution_count": 2,
   "id": "a0630397",
   "metadata": {
    "execution": {
     "iopub.execute_input": "2023-12-12T16:39:36.398251Z",
     "iopub.status.busy": "2023-12-12T16:39:36.397426Z",
     "iopub.status.idle": "2023-12-12T16:39:36.436144Z",
     "shell.execute_reply": "2023-12-12T16:39:36.435190Z"
    },
    "papermill": {
     "duration": 0.052075,
     "end_time": "2023-12-12T16:39:36.438813",
     "exception": false,
     "start_time": "2023-12-12T16:39:36.386738",
     "status": "completed"
    },
    "tags": []
   },
   "outputs": [],
   "source": [
    "# Dataframe from csv file\n",
    "iris_data  = pd.read_csv('iris-flower-dataset/IRIS.csv')"
   ]
  },
  {
   "cell_type": "markdown",
   "id": "5fd11fcb",
   "metadata": {
    "papermill": {
     "duration": 0.007062,
     "end_time": "2023-12-12T16:39:36.453390",
     "exception": false,
     "start_time": "2023-12-12T16:39:36.446328",
     "status": "completed"
    },
    "tags": []
   },
   "source": [
    "Exploritariy data analysis"
   ]
  },
  {
   "cell_type": "code",
   "execution_count": 3,
   "id": "bab62929",
   "metadata": {
    "execution": {
     "iopub.execute_input": "2023-12-12T16:39:36.470825Z",
     "iopub.status.busy": "2023-12-12T16:39:36.469698Z",
     "iopub.status.idle": "2023-12-12T16:39:36.532276Z",
     "shell.execute_reply": "2023-12-12T16:39:36.531236Z"
    },
    "papermill": {
     "duration": 0.074555,
     "end_time": "2023-12-12T16:39:36.535431",
     "exception": false,
     "start_time": "2023-12-12T16:39:36.460876",
     "status": "completed"
    },
    "tags": []
   },
   "outputs": [
    {
     "name": "stdout",
     "output_type": "stream",
     "text": [
      "<class 'pandas.core.frame.DataFrame'>\n",
      "RangeIndex: 150 entries, 0 to 149\n",
      "Data columns (total 5 columns):\n",
      " #   Column        Non-Null Count  Dtype  \n",
      "---  ------        --------------  -----  \n",
      " 0   sepal_length  150 non-null    float64\n",
      " 1   sepal_width   150 non-null    float64\n",
      " 2   petal_length  150 non-null    float64\n",
      " 3   petal_width   150 non-null    float64\n",
      " 4   species       150 non-null    object \n",
      "dtypes: float64(4), object(1)\n",
      "memory usage: 6.0+ KB\n",
      "================================================================================\n"
     ]
    },
    {
     "data": {
      "text/html": [
       "<div>\n",
       "<style scoped>\n",
       "    .dataframe tbody tr th:only-of-type {\n",
       "        vertical-align: middle;\n",
       "    }\n",
       "\n",
       "    .dataframe tbody tr th {\n",
       "        vertical-align: top;\n",
       "    }\n",
       "\n",
       "    .dataframe thead th {\n",
       "        text-align: right;\n",
       "    }\n",
       "</style>\n",
       "<table border=\"1\" class=\"dataframe\">\n",
       "  <thead>\n",
       "    <tr style=\"text-align: right;\">\n",
       "      <th></th>\n",
       "      <th>sepal_length</th>\n",
       "      <th>sepal_width</th>\n",
       "      <th>petal_length</th>\n",
       "      <th>petal_width</th>\n",
       "      <th>species</th>\n",
       "    </tr>\n",
       "  </thead>\n",
       "  <tbody>\n",
       "    <tr>\n",
       "      <th>0</th>\n",
       "      <td>5.1</td>\n",
       "      <td>3.5</td>\n",
       "      <td>1.4</td>\n",
       "      <td>0.2</td>\n",
       "      <td>Iris-setosa</td>\n",
       "    </tr>\n",
       "    <tr>\n",
       "      <th>1</th>\n",
       "      <td>4.9</td>\n",
       "      <td>3.0</td>\n",
       "      <td>1.4</td>\n",
       "      <td>0.2</td>\n",
       "      <td>Iris-setosa</td>\n",
       "    </tr>\n",
       "    <tr>\n",
       "      <th>2</th>\n",
       "      <td>4.7</td>\n",
       "      <td>3.2</td>\n",
       "      <td>1.3</td>\n",
       "      <td>0.2</td>\n",
       "      <td>Iris-setosa</td>\n",
       "    </tr>\n",
       "    <tr>\n",
       "      <th>3</th>\n",
       "      <td>4.6</td>\n",
       "      <td>3.1</td>\n",
       "      <td>1.5</td>\n",
       "      <td>0.2</td>\n",
       "      <td>Iris-setosa</td>\n",
       "    </tr>\n",
       "    <tr>\n",
       "      <th>4</th>\n",
       "      <td>5.0</td>\n",
       "      <td>3.6</td>\n",
       "      <td>1.4</td>\n",
       "      <td>0.2</td>\n",
       "      <td>Iris-setosa</td>\n",
       "    </tr>\n",
       "    <tr>\n",
       "      <th>5</th>\n",
       "      <td>5.4</td>\n",
       "      <td>3.9</td>\n",
       "      <td>1.7</td>\n",
       "      <td>0.4</td>\n",
       "      <td>Iris-setosa</td>\n",
       "    </tr>\n",
       "    <tr>\n",
       "      <th>6</th>\n",
       "      <td>4.6</td>\n",
       "      <td>3.4</td>\n",
       "      <td>1.4</td>\n",
       "      <td>0.3</td>\n",
       "      <td>Iris-setosa</td>\n",
       "    </tr>\n",
       "    <tr>\n",
       "      <th>7</th>\n",
       "      <td>5.0</td>\n",
       "      <td>3.4</td>\n",
       "      <td>1.5</td>\n",
       "      <td>0.2</td>\n",
       "      <td>Iris-setosa</td>\n",
       "    </tr>\n",
       "    <tr>\n",
       "      <th>8</th>\n",
       "      <td>4.4</td>\n",
       "      <td>2.9</td>\n",
       "      <td>1.4</td>\n",
       "      <td>0.2</td>\n",
       "      <td>Iris-setosa</td>\n",
       "    </tr>\n",
       "    <tr>\n",
       "      <th>9</th>\n",
       "      <td>4.9</td>\n",
       "      <td>3.1</td>\n",
       "      <td>1.5</td>\n",
       "      <td>0.1</td>\n",
       "      <td>Iris-setosa</td>\n",
       "    </tr>\n",
       "  </tbody>\n",
       "</table>\n",
       "</div>"
      ],
      "text/plain": [
       "   sepal_length  sepal_width  petal_length  petal_width      species\n",
       "0           5.1          3.5           1.4          0.2  Iris-setosa\n",
       "1           4.9          3.0           1.4          0.2  Iris-setosa\n",
       "2           4.7          3.2           1.3          0.2  Iris-setosa\n",
       "3           4.6          3.1           1.5          0.2  Iris-setosa\n",
       "4           5.0          3.6           1.4          0.2  Iris-setosa\n",
       "5           5.4          3.9           1.7          0.4  Iris-setosa\n",
       "6           4.6          3.4           1.4          0.3  Iris-setosa\n",
       "7           5.0          3.4           1.5          0.2  Iris-setosa\n",
       "8           4.4          2.9           1.4          0.2  Iris-setosa\n",
       "9           4.9          3.1           1.5          0.1  Iris-setosa"
      ]
     },
     "execution_count": 3,
     "metadata": {},
     "output_type": "execute_result"
    }
   ],
   "source": [
    "# Display information about the dataset\n",
    "iris_data.info()\n",
    "print(\"==\"*40)\n",
    "iris_data.head(10)\n"
   ]
  },
  {
   "cell_type": "markdown",
   "id": "bbd0ab75",
   "metadata": {
    "papermill": {
     "duration": 0.007788,
     "end_time": "2023-12-12T16:39:36.551324",
     "exception": false,
     "start_time": "2023-12-12T16:39:36.543536",
     "status": "completed"
    },
    "tags": []
   },
   "source": [
    "Separate the features and target variables\n"
   ]
  },
  {
   "cell_type": "code",
   "execution_count": 4,
   "id": "bce2784f",
   "metadata": {
    "execution": {
     "iopub.execute_input": "2023-12-12T16:39:36.568987Z",
     "iopub.status.busy": "2023-12-12T16:39:36.568563Z",
     "iopub.status.idle": "2023-12-12T16:39:36.579434Z",
     "shell.execute_reply": "2023-12-12T16:39:36.578214Z"
    },
    "papermill": {
     "duration": 0.02242,
     "end_time": "2023-12-12T16:39:36.581800",
     "exception": false,
     "start_time": "2023-12-12T16:39:36.559380",
     "status": "completed"
    },
    "tags": []
   },
   "outputs": [],
   "source": [
    "# Separate the features and target variables\n",
    "X = iris_data.loc[:, iris_data.columns != 'species']\n",
    "y = iris_data.loc[:, ['species']]\n"
   ]
  },
  {
   "cell_type": "markdown",
   "id": "5ba636a5",
   "metadata": {
    "papermill": {
     "duration": 0.008062,
     "end_time": "2023-12-12T16:39:36.597909",
     "exception": false,
     "start_time": "2023-12-12T16:39:36.589847",
     "status": "completed"
    },
    "tags": []
   },
   "source": [
    "Encoding the categorical data"
   ]
  },
  {
   "cell_type": "code",
   "execution_count": 5,
   "id": "837e0410",
   "metadata": {
    "execution": {
     "iopub.execute_input": "2023-12-12T16:39:36.616407Z",
     "iopub.status.busy": "2023-12-12T16:39:36.615649Z",
     "iopub.status.idle": "2023-12-12T16:39:36.629551Z",
     "shell.execute_reply": "2023-12-12T16:39:36.628186Z"
    },
    "papermill": {
     "duration": 0.026582,
     "end_time": "2023-12-12T16:39:36.632356",
     "exception": false,
     "start_time": "2023-12-12T16:39:36.605774",
     "status": "completed"
    },
    "tags": []
   },
   "outputs": [
    {
     "name": "stderr",
     "output_type": "stream",
     "text": [
      "/opt/conda/lib/python3.10/site-packages/sklearn/preprocessing/_label.py:116: DataConversionWarning: A column-vector y was passed when a 1d array was expected. Please change the shape of y to (n_samples, ), for example using ravel().\n",
      "  y = column_or_1d(y, warn=True)\n"
     ]
    },
    {
     "data": {
      "text/plain": [
       "array([[1., 0., 0.],\n",
       "       [1., 0., 0.],\n",
       "       [1., 0., 0.],\n",
       "       [1., 0., 0.],\n",
       "       [1., 0., 0.]], dtype=float32)"
      ]
     },
     "execution_count": 5,
     "metadata": {},
     "output_type": "execute_result"
    }
   ],
   "source": [
    "# Encode the target variable\n",
    "y_enc = LabelEncoder().fit_transform(y)\n",
    "# Converting the label into a matrix form\n",
    "y_label = tf.keras.utils.to_categorical(y_enc)\n",
    "\n",
    "# Check data after encoding it\n",
    "y_label[:5]\n"
   ]
  },
  {
   "cell_type": "markdown",
   "id": "25593ef2",
   "metadata": {
    "papermill": {
     "duration": 0.007839,
     "end_time": "2023-12-12T16:39:36.648185",
     "exception": false,
     "start_time": "2023-12-12T16:39:36.640346",
     "status": "completed"
    },
    "tags": []
   },
   "source": [
    "# Split the data into training and testing sets\n"
   ]
  },
  {
   "cell_type": "code",
   "execution_count": 6,
   "id": "4d683049",
   "metadata": {
    "execution": {
     "iopub.execute_input": "2023-12-12T16:39:36.667721Z",
     "iopub.status.busy": "2023-12-12T16:39:36.665657Z",
     "iopub.status.idle": "2023-12-12T16:39:36.673909Z",
     "shell.execute_reply": "2023-12-12T16:39:36.672441Z"
    },
    "papermill": {
     "duration": 0.02046,
     "end_time": "2023-12-12T16:39:36.676706",
     "exception": false,
     "start_time": "2023-12-12T16:39:36.656246",
     "status": "completed"
    },
    "tags": []
   },
   "outputs": [],
   "source": [
    "# Split the data into training and testing sets\n",
    "X_train, X_test, y_train, y_test = train_test_split(X, y_label, test_size=0.3)\n"
   ]
  },
  {
   "cell_type": "code",
   "execution_count": 7,
   "id": "3dc40838",
   "metadata": {
    "execution": {
     "iopub.execute_input": "2023-12-12T16:39:36.695610Z",
     "iopub.status.busy": "2023-12-12T16:39:36.694721Z",
     "iopub.status.idle": "2023-12-12T16:39:36.701429Z",
     "shell.execute_reply": "2023-12-12T16:39:36.700214Z"
    },
    "papermill": {
     "duration": 0.018629,
     "end_time": "2023-12-12T16:39:36.703698",
     "exception": false,
     "start_time": "2023-12-12T16:39:36.685069",
     "status": "completed"
    },
    "tags": []
   },
   "outputs": [
    {
     "name": "stdout",
     "output_type": "stream",
     "text": [
      "Train shape : (105, 4), Y Train : (105, 3)\n",
      "(4,)\n"
     ]
    }
   ],
   "source": [
    "# Display the shapes of the training data\n",
    "print(f\"Train shape : {X_train.shape}, Y Train : {y_train.shape}\")\n",
    "print(X_train.shape[1:])\n"
   ]
  },
  {
   "cell_type": "markdown",
   "id": "e2c29f50",
   "metadata": {
    "papermill": {
     "duration": 0.007799,
     "end_time": "2023-12-12T16:39:36.719607",
     "exception": false,
     "start_time": "2023-12-12T16:39:36.711808",
     "status": "completed"
    },
    "tags": []
   },
   "source": [
    "\n",
    "# Define the model architecture\n"
   ]
  },
  {
   "cell_type": "code",
   "execution_count": 8,
   "id": "d944d747",
   "metadata": {
    "execution": {
     "iopub.execute_input": "2023-12-12T16:39:36.738352Z",
     "iopub.status.busy": "2023-12-12T16:39:36.737628Z",
     "iopub.status.idle": "2023-12-12T16:39:36.986513Z",
     "shell.execute_reply": "2023-12-12T16:39:36.985204Z"
    },
    "papermill": {
     "duration": 0.261606,
     "end_time": "2023-12-12T16:39:36.989385",
     "exception": false,
     "start_time": "2023-12-12T16:39:36.727779",
     "status": "completed"
    },
    "tags": []
   },
   "outputs": [],
   "source": [
    "\n",
    "# Define the model architecture\n",
    "def get_model():\n",
    "    model = Sequential([\n",
    "        keras.layers.Input(shape=X_train.shape[1:]),\n",
    "        keras.layers.Dense(1000, activation='relu'),\n",
    "        keras.layers.Dense(500, activation='relu'),\n",
    "        keras.layers.Dense(300, activation='relu'),\n",
    "        keras.layers.Dropout(0.2),\n",
    "        keras.layers.Dense(3, activation='softmax')\n",
    "    ])\n",
    "\n",
    "    return model\n",
    "\n",
    "# run the model \n",
    "model = get_model()\n"
   ]
  },
  {
   "cell_type": "markdown",
   "id": "ff2c84c2",
   "metadata": {
    "papermill": {
     "duration": 0.0078,
     "end_time": "2023-12-12T16:39:37.005511",
     "exception": false,
     "start_time": "2023-12-12T16:39:36.997711",
     "status": "completed"
    },
    "tags": []
   },
   "source": [
    "# Compile the model"
   ]
  },
  {
   "cell_type": "code",
   "execution_count": 9,
   "id": "122511a7",
   "metadata": {
    "execution": {
     "iopub.execute_input": "2023-12-12T16:39:37.023773Z",
     "iopub.status.busy": "2023-12-12T16:39:37.023349Z",
     "iopub.status.idle": "2023-12-12T16:39:37.047018Z",
     "shell.execute_reply": "2023-12-12T16:39:37.045534Z"
    },
    "papermill": {
     "duration": 0.036383,
     "end_time": "2023-12-12T16:39:37.050010",
     "exception": false,
     "start_time": "2023-12-12T16:39:37.013627",
     "status": "completed"
    },
    "tags": []
   },
   "outputs": [],
   "source": [
    "# Compile the model\n",
    "model.compile(optimizer='adam',\n",
    "              loss=keras.losses.CategoricalCrossentropy(),\n",
    "              metrics=['accuracy'])\n"
   ]
  },
  {
   "cell_type": "markdown",
   "id": "cb078a4b",
   "metadata": {
    "papermill": {
     "duration": 0.007961,
     "end_time": "2023-12-12T16:39:37.066937",
     "exception": false,
     "start_time": "2023-12-12T16:39:37.058976",
     "status": "completed"
    },
    "tags": []
   },
   "source": [
    "# Training the model"
   ]
  },
  {
   "cell_type": "code",
   "execution_count": 10,
   "id": "03632628",
   "metadata": {
    "execution": {
     "iopub.execute_input": "2023-12-12T16:39:37.085454Z",
     "iopub.status.busy": "2023-12-12T16:39:37.084958Z",
     "iopub.status.idle": "2023-12-12T16:39:43.516748Z",
     "shell.execute_reply": "2023-12-12T16:39:43.515451Z"
    },
    "papermill": {
     "duration": 6.444568,
     "end_time": "2023-12-12T16:39:43.519743",
     "exception": false,
     "start_time": "2023-12-12T16:39:37.075175",
     "status": "completed"
    },
    "tags": []
   },
   "outputs": [
    {
     "name": "stdout",
     "output_type": "stream",
     "text": [
      "Epoch 1/30\n",
      "4/4 [==============================] - 2s 113ms/step - loss: 1.0582 - accuracy: 0.4667 - val_loss: 1.2366 - val_accuracy: 0.5778\n",
      "Epoch 2/30\n",
      "4/4 [==============================] - 0s 21ms/step - loss: 0.8149 - accuracy: 0.7048 - val_loss: 0.6361 - val_accuracy: 0.7333\n",
      "Epoch 3/30\n",
      "4/4 [==============================] - 0s 20ms/step - loss: 0.5206 - accuracy: 0.8095 - val_loss: 0.4573 - val_accuracy: 0.9111\n",
      "Epoch 4/30\n",
      "4/4 [==============================] - 0s 20ms/step - loss: 0.3773 - accuracy: 0.9143 - val_loss: 0.4375 - val_accuracy: 0.6889\n",
      "Epoch 5/30\n",
      "4/4 [==============================] - 0s 25ms/step - loss: 0.3074 - accuracy: 0.8381 - val_loss: 0.2810 - val_accuracy: 0.9778\n",
      "Epoch 6/30\n",
      "4/4 [==============================] - 0s 19ms/step - loss: 0.2734 - accuracy: 0.8857 - val_loss: 0.4164 - val_accuracy: 0.6889\n",
      "Epoch 7/30\n",
      "4/4 [==============================] - 0s 20ms/step - loss: 0.2098 - accuracy: 0.9238 - val_loss: 0.2265 - val_accuracy: 0.9111\n",
      "Epoch 8/30\n",
      "4/4 [==============================] - 0s 21ms/step - loss: 0.1488 - accuracy: 0.9619 - val_loss: 0.2108 - val_accuracy: 0.9111\n",
      "Epoch 9/30\n",
      "4/4 [==============================] - 0s 20ms/step - loss: 0.1085 - accuracy: 0.9810 - val_loss: 0.1265 - val_accuracy: 0.9778\n",
      "Epoch 10/30\n",
      "4/4 [==============================] - 0s 21ms/step - loss: 0.1167 - accuracy: 0.9810 - val_loss: 0.2404 - val_accuracy: 0.8889\n",
      "Epoch 11/30\n",
      "4/4 [==============================] - 0s 20ms/step - loss: 0.1210 - accuracy: 0.9619 - val_loss: 0.1092 - val_accuracy: 0.9556\n",
      "Epoch 12/30\n",
      "4/4 [==============================] - 0s 20ms/step - loss: 0.0957 - accuracy: 0.9714 - val_loss: 0.3001 - val_accuracy: 0.8889\n",
      "Epoch 13/30\n",
      "4/4 [==============================] - 0s 19ms/step - loss: 0.0947 - accuracy: 0.9714 - val_loss: 0.0855 - val_accuracy: 0.9556\n",
      "Epoch 14/30\n",
      "4/4 [==============================] - 0s 21ms/step - loss: 0.0863 - accuracy: 0.9810 - val_loss: 0.2062 - val_accuracy: 0.8889\n",
      "Epoch 15/30\n",
      "4/4 [==============================] - 0s 22ms/step - loss: 0.0695 - accuracy: 0.9905 - val_loss: 0.1193 - val_accuracy: 0.9111\n",
      "Epoch 16/30\n",
      "4/4 [==============================] - 0s 21ms/step - loss: 0.0775 - accuracy: 0.9810 - val_loss: 0.2150 - val_accuracy: 0.8889\n",
      "Epoch 17/30\n",
      "4/4 [==============================] - 0s 20ms/step - loss: 0.0944 - accuracy: 0.9714 - val_loss: 0.1336 - val_accuracy: 0.9111\n",
      "Epoch 18/30\n",
      "4/4 [==============================] - 0s 20ms/step - loss: 0.0730 - accuracy: 0.9810 - val_loss: 0.1750 - val_accuracy: 0.9111\n",
      "Epoch 19/30\n",
      "4/4 [==============================] - 0s 20ms/step - loss: 0.0653 - accuracy: 0.9905 - val_loss: 0.1065 - val_accuracy: 0.9333\n",
      "Epoch 20/30\n",
      "4/4 [==============================] - 0s 20ms/step - loss: 0.0677 - accuracy: 0.9905 - val_loss: 0.0406 - val_accuracy: 1.0000\n",
      "Epoch 21/30\n",
      "4/4 [==============================] - 0s 19ms/step - loss: 0.1200 - accuracy: 0.9524 - val_loss: 0.2138 - val_accuracy: 0.8889\n",
      "Epoch 22/30\n",
      "4/4 [==============================] - 0s 20ms/step - loss: 0.0713 - accuracy: 0.9905 - val_loss: 0.0607 - val_accuracy: 1.0000\n",
      "Epoch 23/30\n",
      "4/4 [==============================] - 0s 20ms/step - loss: 0.0651 - accuracy: 0.9810 - val_loss: 0.2509 - val_accuracy: 0.8889\n",
      "Epoch 24/30\n",
      "4/4 [==============================] - 0s 20ms/step - loss: 0.0625 - accuracy: 0.9810 - val_loss: 0.1016 - val_accuracy: 0.9556\n",
      "Epoch 25/30\n",
      "4/4 [==============================] - 0s 19ms/step - loss: 0.0831 - accuracy: 0.9810 - val_loss: 0.2102 - val_accuracy: 0.8889\n",
      "Epoch 26/30\n",
      "4/4 [==============================] - 0s 24ms/step - loss: 0.0788 - accuracy: 0.9810 - val_loss: 0.1682 - val_accuracy: 0.9111\n",
      "Epoch 27/30\n",
      "4/4 [==============================] - 0s 25ms/step - loss: 0.0720 - accuracy: 0.9810 - val_loss: 0.0953 - val_accuracy: 0.9556\n",
      "Epoch 28/30\n",
      "4/4 [==============================] - 0s 19ms/step - loss: 0.0676 - accuracy: 0.9714 - val_loss: 0.2976 - val_accuracy: 0.8889\n",
      "Epoch 29/30\n",
      "4/4 [==============================] - 0s 21ms/step - loss: 0.1056 - accuracy: 0.9619 - val_loss: 0.0612 - val_accuracy: 0.9778\n",
      "Epoch 30/30\n",
      "4/4 [==============================] - 0s 21ms/step - loss: 0.1709 - accuracy: 0.9238 - val_loss: 0.5035 - val_accuracy: 0.8000\n"
     ]
    }
   ],
   "source": [
    "# Train the model\n",
    "history = model.fit(X_train, y_train, epochs=30, validation_data=(X_test, y_test), verbose=1)\n"
   ]
  },
  {
   "cell_type": "markdown",
   "id": "14052812",
   "metadata": {
    "papermill": {
     "duration": 0.015763,
     "end_time": "2023-12-12T16:39:43.552095",
     "exception": false,
     "start_time": "2023-12-12T16:39:43.536332",
     "status": "completed"
    },
    "tags": []
   },
   "source": [
    "# Evalutaion of the model"
   ]
  },
  {
   "cell_type": "code",
   "execution_count": 11,
   "id": "53ff60f9",
   "metadata": {
    "execution": {
     "iopub.execute_input": "2023-12-12T16:39:43.585763Z",
     "iopub.status.busy": "2023-12-12T16:39:43.585331Z",
     "iopub.status.idle": "2023-12-12T16:39:43.682865Z",
     "shell.execute_reply": "2023-12-12T16:39:43.681609Z"
    },
    "papermill": {
     "duration": 0.117257,
     "end_time": "2023-12-12T16:39:43.685450",
     "exception": false,
     "start_time": "2023-12-12T16:39:43.568193",
     "status": "completed"
    },
    "tags": []
   },
   "outputs": [
    {
     "name": "stdout",
     "output_type": "stream",
     "text": [
      "2/2 [==============================] - 0s 7ms/step - loss: 0.5035 - accuracy: 0.8000\n",
      "[0.5035242438316345, 0.800000011920929]\n"
     ]
    }
   ],
   "source": [
    "# Evaluate the model on the test data\n",
    "print(model.evaluate(X_test, y_test))\n"
   ]
  },
  {
   "cell_type": "markdown",
   "id": "59428e55",
   "metadata": {
    "papermill": {
     "duration": 0.016387,
     "end_time": "2023-12-12T16:39:43.718822",
     "exception": false,
     "start_time": "2023-12-12T16:39:43.702435",
     "status": "completed"
    },
    "tags": []
   },
   "source": [
    "# Plotting the accuracy"
   ]
  },
  {
   "cell_type": "code",
   "execution_count": 12,
   "id": "12448977",
   "metadata": {
    "execution": {
     "iopub.execute_input": "2023-12-12T16:39:43.753358Z",
     "iopub.status.busy": "2023-12-12T16:39:43.752700Z",
     "iopub.status.idle": "2023-12-12T16:39:44.194022Z",
     "shell.execute_reply": "2023-12-12T16:39:44.192815Z"
    },
    "papermill": {
     "duration": 0.461829,
     "end_time": "2023-12-12T16:39:44.197070",
     "exception": false,
     "start_time": "2023-12-12T16:39:43.735241",
     "status": "completed"
    },
    "tags": []
   },
   "outputs": [
    {
     "data": {
      "image/png": "[encoded data removed]",
      "text/plain": [
       "<Figure size 1000x600 with 1 Axes>"
      ]
     },
     "metadata": {},
     "output_type": "display_data"
    }
   ],
   "source": [
    "# Plot the training and validation accuracy over epochs\n",
    "pd.DataFrame(history.history).plot(figsize=(10, 6))\n",
    "plt.grid(True)\n",
    "plt.gca().set_ylim(0, 1)\n",
    "plt.show()\n"
   ]
  }
 ],
 "metadata": {
  "kaggle": {
   "accelerator": "none",
   "dataSources": [
    {
     "datasetId": 17860,
     "sourceId": 23404,
     "sourceType": "datasetVersion"
    }
   ],
   "dockerImageVersionId": 30497,
   "isGpuEnabled": false,
   "isInternetEnabled": true,
   "language": "python",
   "sourceType": "notebook"
  },
  "kernelspec": {
   "display_name": "Python 3",
   "language": "python",
   "name": "python3"
  },
  "language_info": {
   "codemirror_mode": {
    "name": "ipython",
    "version": 3
   },
   "file_extension": ".py",
   "mimetype": "text/x-python",
   "name": "python",
   "nbconvert_exporter": "python",
   "pygments_lexer": "ipython3",
   "version": "3.10.10"
  },
  "papermill": {
   "default_parameters": {},
   "duration": 37.402757,
   "end_time": "2023-12-12T16:39:46.901917",
   "environment_variables": {},
   "exception": null,
   "input_path": "__notebook__.ipynb",
   "output_path": "__notebook__.ipynb",
   "parameters": {},
   "start_time": "2023-12-12T16:39:09.499160",
   "version": "2.4.0"
  }
 },
 "nbformat": 4,
 "nbformat_minor": 5
}
